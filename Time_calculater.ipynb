{
 "metadata": {
  "language_info": {
   "codemirror_mode": {
    "name": "ipython",
    "version": 3
   },
   "file_extension": ".py",
   "mimetype": "text/x-python",
   "name": "python",
   "nbconvert_exporter": "python",
   "pygments_lexer": "ipython3",
   "version": "3.8.3-final"
  },
  "orig_nbformat": 2,
  "kernelspec": {
   "name": "python3",
   "display_name": "Python 3.8.3 64-bit ('base': conda)",
   "metadata": {
    "interpreter": {
     "hash": "dca0ade3e726a953b501b15e8e990130d2b7799f14cfd9f4271676035ebe5511"
    }
   }
  }
 },
 "nbformat": 4,
 "nbformat_minor": 2,
 "cells": [
  {
   "cell_type": "code",
   "execution_count": 112,
   "metadata": {},
   "outputs": [],
   "source": [
    "import numpy as np  \n",
    "import math\n",
    "import time\n",
    "import sys\n",
    "from datetime import datetime, timedelta"
   ]
  },
  {
   "cell_type": "code",
   "execution_count": 135,
   "metadata": {},
   "outputs": [],
   "source": [
    "\n",
    "\n",
    "def new_time(time,duration):\n",
    "    if time.find('AM') != -1:\n",
    "        day_stamp = 0\n",
    "        time = time.replace('AM','')\n",
    "    elif time.find('PM') != -1:\n",
    "        day_stamp = 12\n",
    "        time = time.replace('PM','')\n",
    "    else:\n",
    "        sys.exit(\"Worng time format\")\n",
    "\n",
    "    time = datetime.strptime(time, \"%H:%M\") + timedelta(hours = day_stamp) + timedelta(hours = duration)\n",
    "    time = time.strftime(\"%H:%M\")\n",
    "    \n",
    "    return(time)\n",
    "\n",
    "    \n"
   ]
  },
  {
   "cell_type": "code",
   "execution_count": 143,
   "metadata": {},
   "outputs": [
    {
     "output_type": "stream",
     "name": "stdout",
     "text": [
      "21:30\n"
     ]
    }
   ],
   "source": [
    "print(new_time(\"1:30PM\",8))"
   ]
  },
  {
   "cell_type": "code",
   "execution_count": 116,
   "metadata": {},
   "outputs": [
    {
     "output_type": "execute_result",
     "data": {
      "text/plain": [
       "datetime.timedelta(seconds=18000)"
      ]
     },
     "metadata": {},
     "execution_count": 116
    }
   ],
   "source": [
    "a = timedelta(hours = 5)\n",
    "a"
   ]
  },
  {
   "cell_type": "code",
   "execution_count": 120,
   "metadata": {},
   "outputs": [
    {
     "output_type": "execute_result",
     "data": {
      "text/plain": [
       "datetime.datetime(1900, 1, 1, 12, 22)"
      ]
     },
     "metadata": {},
     "execution_count": 120
    }
   ],
   "source": [
    "time = \"12:22\"\n",
    "time = datetime.strptime(time, \"%H:%M\") \n",
    "time"
   ]
  },
  {
   "cell_type": "code",
   "execution_count": 125,
   "metadata": {},
   "outputs": [
    {
     "output_type": "stream",
     "name": "stdout",
     "text": [
      "now = 2021-03-27 20:23:07.540075\ndate and time = 27/03/2021 20:23:07\n"
     ]
    }
   ],
   "source": [
    "from datetime import datetime\n",
    "\n",
    "# datetime object containing current date and time\n",
    "now = datetime.now()\n",
    " \n",
    "print(\"now =\", now)\n",
    "\n",
    "# dd/mm/YY H:M:S\n",
    "dt_string = now.strftime(\"%d/%m/%Y %H:%M:%S\")\n",
    "print(\"date and time =\", dt_string)"
   ]
  },
  {
   "cell_type": "code",
   "execution_count": null,
   "metadata": {},
   "outputs": [],
   "source": []
  }
 ]
}